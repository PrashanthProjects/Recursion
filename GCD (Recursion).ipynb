{
 "cells": [
  {
   "cell_type": "code",
   "execution_count": 1,
   "id": "a721d35c",
   "metadata": {},
   "outputs": [],
   "source": [
    "def gcd(a, b):\n",
    "    assert int(a)==a and int(b)==b, \"The Number must be integer only\"\n",
    "    if a<0:\n",
    "        a=-1*a\n",
    "    if b<0:\n",
    "        b=-1*b\n",
    "    if b==0:\n",
    "        return a\n",
    "    else:\n",
    "        return gcd(b, a%b)  "
   ]
  },
  {
   "cell_type": "code",
   "execution_count": 2,
   "id": "720417c1",
   "metadata": {},
   "outputs": [
    {
     "data": {
      "text/plain": [
       "3"
      ]
     },
     "execution_count": 2,
     "metadata": {},
     "output_type": "execute_result"
    }
   ],
   "source": [
    "gcd(9, 24)"
   ]
  },
  {
   "cell_type": "code",
   "execution_count": null,
   "id": "02314ef7",
   "metadata": {},
   "outputs": [],
   "source": []
  }
 ],
 "metadata": {
  "kernelspec": {
   "display_name": "Python 3 (ipykernel)",
   "language": "python",
   "name": "python3"
  },
  "language_info": {
   "codemirror_mode": {
    "name": "ipython",
    "version": 3
   },
   "file_extension": ".py",
   "mimetype": "text/x-python",
   "name": "python",
   "nbconvert_exporter": "python",
   "pygments_lexer": "ipython3",
   "version": "3.9.12"
  }
 },
 "nbformat": 4,
 "nbformat_minor": 5
}

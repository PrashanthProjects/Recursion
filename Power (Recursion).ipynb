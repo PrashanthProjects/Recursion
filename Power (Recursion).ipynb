{
 "cells": [
  {
   "cell_type": "code",
   "execution_count": 1,
   "id": "8d62c765",
   "metadata": {},
   "outputs": [],
   "source": [
    "def power(base, exp):\n",
    "    assert exp>=0 and int(exp)== exp, \"The Exponent must be positive integer\"\n",
    "    if exp==0:\n",
    "        return 1\n",
    "    if exp==1:\n",
    "        return base\n",
    "    return base*power(base, exp-1)"
   ]
  },
  {
   "cell_type": "code",
   "execution_count": 2,
   "id": "65bfafdd",
   "metadata": {},
   "outputs": [
    {
     "data": {
      "text/plain": [
       "43046721"
      ]
     },
     "execution_count": 2,
     "metadata": {},
     "output_type": "execute_result"
    }
   ],
   "source": [
    "power(9,8)"
   ]
  },
  {
   "cell_type": "code",
   "execution_count": null,
   "id": "8040fe72",
   "metadata": {},
   "outputs": [],
   "source": []
  }
 ],
 "metadata": {
  "kernelspec": {
   "display_name": "Python 3 (ipykernel)",
   "language": "python",
   "name": "python3"
  },
  "language_info": {
   "codemirror_mode": {
    "name": "ipython",
    "version": 3
   },
   "file_extension": ".py",
   "mimetype": "text/x-python",
   "name": "python",
   "nbconvert_exporter": "python",
   "pygments_lexer": "ipython3",
   "version": "3.9.12"
  }
 },
 "nbformat": 4,
 "nbformat_minor": 5
}

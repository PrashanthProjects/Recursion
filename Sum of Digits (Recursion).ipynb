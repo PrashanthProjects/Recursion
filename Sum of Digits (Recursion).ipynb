{
 "cells": [
  {
   "cell_type": "code",
   "execution_count": 1,
   "id": "1d8a9bc6",
   "metadata": {},
   "outputs": [],
   "source": [
    "def sumofdigits(n):\n",
    "    assert n>=0 and int(n)==n, \"The number should be positive integer only\"\n",
    "    if n==0:\n",
    "        return 0\n",
    "    else:\n",
    "        return int(n%10)+sumofdigits(int(n//10))"
   ]
  },
  {
   "cell_type": "code",
   "execution_count": 2,
   "id": "b22a0f2d",
   "metadata": {},
   "outputs": [
    {
     "name": "stdout",
     "output_type": "stream",
     "text": [
      "45\n"
     ]
    }
   ],
   "source": [
    "print(sumofdigits(1234567890))"
   ]
  },
  {
   "cell_type": "code",
   "execution_count": null,
   "id": "87bdce8d",
   "metadata": {},
   "outputs": [],
   "source": []
  }
 ],
 "metadata": {
  "kernelspec": {
   "display_name": "Python 3 (ipykernel)",
   "language": "python",
   "name": "python3"
  },
  "language_info": {
   "codemirror_mode": {
    "name": "ipython",
    "version": 3
   },
   "file_extension": ".py",
   "mimetype": "text/x-python",
   "name": "python",
   "nbconvert_exporter": "python",
   "pygments_lexer": "ipython3",
   "version": "3.9.12"
  }
 },
 "nbformat": 4,
 "nbformat_minor": 5
}

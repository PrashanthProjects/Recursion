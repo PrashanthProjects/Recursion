{
 "cells": [
  {
   "cell_type": "markdown",
   "id": "5cdfe072",
   "metadata": {},
   "source": [
    "# POWER"
   ]
  },
  {
   "cell_type": "code",
   "execution_count": 1,
   "id": "ce98808d",
   "metadata": {},
   "outputs": [
    {
     "data": {
      "text/plain": [
       "8"
      ]
     },
     "execution_count": 1,
     "metadata": {},
     "output_type": "execute_result"
    }
   ],
   "source": [
    "def power(base, exponent):\n",
    "    if exponent == 0:\n",
    "        return 1\n",
    "    return base * power(base, exponent-1)\n",
    "\n",
    "power(2,3)"
   ]
  },
  {
   "cell_type": "markdown",
   "id": "fef28b1d",
   "metadata": {},
   "source": [
    "# FACTORIAL"
   ]
  },
  {
   "cell_type": "code",
   "execution_count": 2,
   "id": "39b392c8",
   "metadata": {},
   "outputs": [
    {
     "data": {
      "text/plain": [
       "40320"
      ]
     },
     "execution_count": 2,
     "metadata": {},
     "output_type": "execute_result"
    }
   ],
   "source": [
    "def factorial(num):\n",
    "    if num <= 1:\n",
    "        return 1\n",
    "    return num * factorial(num-1)\n",
    "\n",
    "factorial(8)"
   ]
  },
  {
   "cell_type": "markdown",
   "id": "b7024590",
   "metadata": {},
   "source": [
    "# PRODUCT OF ARRAY"
   ]
  },
  {
   "cell_type": "code",
   "execution_count": 3,
   "id": "ec890b49",
   "metadata": {},
   "outputs": [
    {
     "data": {
      "text/plain": [
       "24"
      ]
     },
     "execution_count": 3,
     "metadata": {},
     "output_type": "execute_result"
    }
   ],
   "source": [
    "def productOfArray(arr):\n",
    "    if len(arr) == 0:\n",
    "        return 1\n",
    "    return arr[0] * productOfArray(arr[1:])\n",
    "\n",
    "productOfArray([2,3,4])"
   ]
  },
  {
   "cell_type": "markdown",
   "id": "78c14373",
   "metadata": {},
   "source": [
    "# RECURSIVE RANGE SOLUTION"
   ]
  },
  {
   "cell_type": "code",
   "execution_count": 4,
   "id": "97e982d8",
   "metadata": {},
   "outputs": [
    {
     "data": {
      "text/plain": [
       "36"
      ]
     },
     "execution_count": 4,
     "metadata": {},
     "output_type": "execute_result"
    }
   ],
   "source": [
    "def recursiveRange(num):\n",
    "    if num <= 0:\n",
    "        return 0\n",
    "    return num + recursiveRange(num - 1)\n",
    "\n",
    "recursiveRange(8)"
   ]
  },
  {
   "cell_type": "markdown",
   "id": "a6baa56e",
   "metadata": {},
   "source": [
    "# FIBONACCI SOLUTION"
   ]
  },
  {
   "cell_type": "code",
   "execution_count": 5,
   "id": "040545e7",
   "metadata": {},
   "outputs": [
    {
     "data": {
      "text/plain": [
       "21"
      ]
     },
     "execution_count": 5,
     "metadata": {},
     "output_type": "execute_result"
    }
   ],
   "source": [
    "def fib(num):\n",
    "    if (num < 2):\n",
    "        return num\n",
    "    return fib(num - 1) + fib(num - 2)\n",
    "\n",
    "fib(8)"
   ]
  },
  {
   "cell_type": "markdown",
   "id": "495f97f4",
   "metadata": {},
   "source": [
    "# REVERSE SOLUTION"
   ]
  },
  {
   "cell_type": "code",
   "execution_count": 6,
   "id": "2d8c4ff9",
   "metadata": {},
   "outputs": [
    {
     "data": {
      "text/plain": [
       "'htnahsarp'"
      ]
     },
     "execution_count": 6,
     "metadata": {},
     "output_type": "execute_result"
    }
   ],
   "source": [
    "def reverse(strng):\n",
    "    if len(strng) <= 1:\n",
    "      return strng\n",
    "    return strng[len(strng)-1] + reverse(strng[0:len(strng)-1])\n",
    "\n",
    "reverse('prashanth')"
   ]
  },
  {
   "cell_type": "markdown",
   "id": "a14201d9",
   "metadata": {},
   "source": [
    "# PALINDROME SOLUTION"
   ]
  },
  {
   "cell_type": "code",
   "execution_count": 7,
   "id": "31b5271d",
   "metadata": {},
   "outputs": [
    {
     "data": {
      "text/plain": [
       "False"
      ]
     },
     "execution_count": 7,
     "metadata": {},
     "output_type": "execute_result"
    }
   ],
   "source": [
    "def isPalindrome(strng):\n",
    "    if len(strng) == 0:\n",
    "        return True\n",
    "    if strng[0] != strng[len(strng)-1]:\n",
    "        return False\n",
    "    return isPalindrome(strng[1:-1])\n",
    "\n",
    "isPalindrome('Prashanth')"
   ]
  },
  {
   "cell_type": "markdown",
   "id": "55b91f17",
   "metadata": {},
   "source": [
    "# FLATTEN"
   ]
  },
  {
   "cell_type": "code",
   "execution_count": 8,
   "id": "f8317858",
   "metadata": {},
   "outputs": [
    {
     "data": {
      "text/plain": [
       "['P', 'r', 'a', 's', 'h', 'a', 'n', 't', 'h']"
      ]
     },
     "execution_count": 8,
     "metadata": {},
     "output_type": "execute_result"
    }
   ],
   "source": [
    "def flatten(arr):\n",
    "    resultArr = []\n",
    "    for custItem in arr:\n",
    "        if type(custItem) is list:\n",
    "            resultArr.extend(flatten(custItem))\n",
    "        else: \n",
    "            resultArr.append(custItem)\n",
    "    return resultArr\n",
    "\n",
    "flatten('Prashanth')"
   ]
  },
  {
   "cell_type": "markdown",
   "id": "b5fcf7c3",
   "metadata": {},
   "source": [
    "# CAPITALIZE FIRST SOLUTION"
   ]
  },
  {
   "cell_type": "code",
   "execution_count": 9,
   "id": "fb31d82d",
   "metadata": {},
   "outputs": [
    {
     "data": {
      "text/plain": [
       "['P', 'R', 'A', 'S', 'H', 'A', 'N', 'T', 'H']"
      ]
     },
     "execution_count": 9,
     "metadata": {},
     "output_type": "execute_result"
    }
   ],
   "source": [
    "def capitalizeFirst(arr):\n",
    "    result = []\n",
    "    if len(arr) == 0:\n",
    "        return result\n",
    "    result.append(arr[0][0].upper() + arr[0][1:])\n",
    "    return result + capitalizeFirst(arr[1:])\n",
    "\n",
    "capitalizeFirst(\"Prashanth\")"
   ]
  },
  {
   "cell_type": "code",
   "execution_count": null,
   "id": "7607c5d8",
   "metadata": {},
   "outputs": [],
   "source": []
  }
 ],
 "metadata": {
  "kernelspec": {
   "display_name": "Python 3 (ipykernel)",
   "language": "python",
   "name": "python3"
  },
  "language_info": {
   "codemirror_mode": {
    "name": "ipython",
    "version": 3
   },
   "file_extension": ".py",
   "mimetype": "text/x-python",
   "name": "python",
   "nbconvert_exporter": "python",
   "pygments_lexer": "ipython3",
   "version": "3.9.12"
  }
 },
 "nbformat": 4,
 "nbformat_minor": 5
}
